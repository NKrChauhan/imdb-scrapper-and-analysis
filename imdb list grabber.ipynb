{
 "cells": [
  {
   "cell_type": "code",
   "execution_count": 119,
   "metadata": {},
   "outputs": [
    {
     "name": "stdout",
     "output_type": "stream",
     "text": [
      "Enter url imdb list kind: https://www.imdb.com/chart/toptv/?ref_=nv_tvv_250\n"
     ]
    }
   ],
   "source": [
    "from urllib.request import urlopen as uReq\n",
    "from bs4 import BeautifulSoup as soup\n",
    "import pandas as pd\n",
    "my_url=input(\"Enter url imdb list kind: \")\n",
    "uclient=uReq(my_url)\n",
    "html_extract=uclient.read()\n",
    "uclient.close()\n",
    "soup_page=soup(html_extract,\"html.parser\")\n",
    "data=soup_page.find_all(\"td\",{\"class\":\"titleColumn\"})\n",
    "data_rating=soup_page.find_all(\"td\",{\"class\":\"imdbRating\"})"
   ]
  },
  {
   "cell_type": "code",
   "execution_count": 120,
   "metadata": {},
   "outputs": [],
   "source": [
    "d={'rank': list(),'name':list(),'year':list(),'ratings':list()}\n",
    "for x in range(len(data)):\n",
    "    r=data_rating[x].text\n",
    "    t=data[x].text\n",
    "    t.strip()\n",
    "    for i in [',','.','(',')']:\n",
    "        t=t.replace(i,'')\n",
    "        if i=='.':\n",
    "            r=r.replace('\\n','')\n",
    "            continue\n",
    "        r=r.replace(i,'')   \n",
    "    t=t.split('\\n')[1:-1]\n",
    "    d['rank'].append(int(t[0]))\n",
    "    d['name'].append(t[1])\n",
    "    d['year'].append(int(t[2]))\n",
    "    d['ratings'].append(float(r))\n",
    "    "
   ]
  },
  {
   "cell_type": "code",
   "execution_count": 121,
   "metadata": {},
   "outputs": [],
   "source": [
    "df=pd.DataFrame(d,columns=[\"rank\",\"name\",\"year\",\"ratings\"])\n",
    "df.set_index('rank')\n",
    "df.to_csv('imdb.csv', index=False)"
   ]
  },
  {
   "cell_type": "code",
   "execution_count": 122,
   "metadata": {},
   "outputs": [
    {
     "data": {
      "text/html": [
       "<div>\n",
       "<style scoped>\n",
       "    .dataframe tbody tr th:only-of-type {\n",
       "        vertical-align: middle;\n",
       "    }\n",
       "\n",
       "    .dataframe tbody tr th {\n",
       "        vertical-align: top;\n",
       "    }\n",
       "\n",
       "    .dataframe thead th {\n",
       "        text-align: right;\n",
       "    }\n",
       "</style>\n",
       "<table border=\"1\" class=\"dataframe\">\n",
       "  <thead>\n",
       "    <tr style=\"text-align: right;\">\n",
       "      <th></th>\n",
       "      <th>rank</th>\n",
       "      <th>name</th>\n",
       "      <th>year</th>\n",
       "      <th>ratings</th>\n",
       "    </tr>\n",
       "  </thead>\n",
       "  <tbody>\n",
       "    <tr>\n",
       "      <th>15</th>\n",
       "      <td>16</td>\n",
       "      <td>The World at War</td>\n",
       "      <td>1973</td>\n",
       "      <td>9.1</td>\n",
       "    </tr>\n",
       "    <tr>\n",
       "      <th>165</th>\n",
       "      <td>166</td>\n",
       "      <td>El Chavo del Ocho</td>\n",
       "      <td>1972</td>\n",
       "      <td>8.5</td>\n",
       "    </tr>\n",
       "  </tbody>\n",
       "</table>\n",
       "</div>"
      ],
      "text/plain": [
       "     rank                     name  year  ratings\n",
       "15     16         The World at War  1973      9.1\n",
       "165   166        El Chavo del Ocho  1972      8.5"
      ]
     },
     "execution_count": 122,
     "metadata": {},
     "output_type": "execute_result"
    }
   ],
   "source": [
    "df.query('year>1970 and year<1975')"
   ]
  },
  {
   "cell_type": "code",
   "execution_count": 123,
   "metadata": {},
   "outputs": [],
   "source": [
    "res=df.sort_values(['year'],axis=0)\n",
    "res=res.drop(['name','rank'],axis=1)\n",
    "result=res.groupby(['year'],as_index=False).mean()\n",
    "counter=res.groupby([\"year\"],as_index=False).count()\n",
    "counter=counter.drop('year',axis=1)\n",
    "counter.rename(columns = {'ratings':'counts'}, inplace = True)\n",
    "final_df = pd.concat([result, counter], axis=1)"
   ]
  },
  {
   "cell_type": "code",
   "execution_count": 124,
   "metadata": {},
   "outputs": [],
   "source": [
    "def output(df):\n",
    "    return df['ratings']+0.1*df['counts']\n",
    "final_df['final_value']=final_df.apply(output, axis=1)"
   ]
  },
  {
   "cell_type": "code",
   "execution_count": 125,
   "metadata": {},
   "outputs": [
    {
     "data": {
      "image/png": "[encoded data removed]",
      "text/plain": [
       "<Figure size 432x288 with 1 Axes>"
      ]
     },
     "metadata": {
      "needs_background": "light"
     },
     "output_type": "display_data"
    }
   ],
   "source": [
    "from matplotlib import pyplot as plt\n",
    "plt.plot(final_df.year,final_df.final_value)\n",
    "plt.xlabel(\"Year\")\n",
    "plt.ylabel(\"Ratings\")\n",
    "plt.show()"
   ]
  },
  {
   "cell_type": "code",
   "execution_count": null,
   "metadata": {},
   "outputs": [],
   "source": []
  }
 ],
 "metadata": {
  "kernelspec": {
   "display_name": "Python 3",
   "language": "python",
   "name": "python3"
  },
  "language_info": {
   "codemirror_mode": {
    "name": "ipython",
    "version": 3
   },
   "file_extension": ".py",
   "mimetype": "text/x-python",
   "name": "python",
   "nbconvert_exporter": "python",
   "pygments_lexer": "ipython3",
   "version": "3.7.6"
  }
 },
 "nbformat": 4,
 "nbformat_minor": 4
}
